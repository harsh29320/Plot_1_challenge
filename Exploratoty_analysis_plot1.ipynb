{
 "cells": [
  {
   "cell_type": "markdown",
   "metadata": {},
   "source": [
    "**First Plot: Plotting number of people with lower and higher than 50k income based on Education level**"
   ]
  },
  {
   "cell_type": "code",
   "execution_count": 33,
   "metadata": {
    "collapsed": true
   },
   "outputs": [],
   "source": [
    "import numpy as np\n",
    "import pandas as pd\n",
    "import matplotlib.pyplot as plt\n",
    "import seaborn as sns\n",
    "%matplotlib inline"
   ]
  },
  {
   "cell_type": "code",
   "execution_count": null,
   "metadata": {
    "collapsed": true
   },
   "outputs": [],
   "source": [
    "#Specifying column names\n",
    "column_names = [\"AAGE\",\"ACLSWKR\",\"ADTIND\",\"ADTOCC\",\"AHGA\",\"AHRSPAY\",\"AHSCOL\",\"AMARITL\",\"AMJIND\",\"AMJOCC\",\"ARACE\",\"AREORGN\",\"ASEX\",\"AUNMEM\",\"AUNTYPE\",\"AWKSTAT\",\"CAPGAIN\",\"CAPLOSS\",\"DIVVAL\",\"FILESTAT\",\"GRINREG\",\"GRINST\",\"HHDFMX\",\"HHDREL\",\"MARSUPWT\",\"MIGMTR1\",\"MIGMTR3\",\"MIGMTR4\",\"MIGSAME\",\"MIGSUN\",\"NOEMP\",\"PARENT\",\"PEFNTVTY\",\"PEMNTVTY\",\"PENATVTY\",\"PRCITSHP\",\"SEOTR\",\"VETQVA\",\"VETYN\",\"WKSWORK\",\"Year\",\"Income\"]"
   ]
  },
  {
   "cell_type": "code",
   "execution_count": 43,
   "metadata": {},
   "outputs": [],
   "source": [
    "# Reading data\n",
    "Income = pd.read_csv('census-income.data',header=None,names=column_names)"
   ]
  },
  {
   "cell_type": "code",
   "execution_count": 99,
   "metadata": {},
   "outputs": [],
   "source": [
    "# Checking income data\n",
    "Income.head()"
   ]
  },
  {
   "cell_type": "markdown",
   "metadata": {},
   "source": [
    "**Checking null values in the dataset using a heatmap**"
   ]
  },
  {
   "cell_type": "code",
   "execution_count": 100,
   "metadata": {},
   "outputs": [],
   "source": [
    "plt.figure(figsize=(12,6))\n",
    "sns.heatmap(data.isnull(),yticklabels=False,cbar=False,cmap='viridis')"
   ]
  },
  {
   "cell_type": "markdown",
   "metadata": {},
   "source": [
    "Re-classifying education level"
   ]
  },
  {
   "cell_type": "code",
   "execution_count": 95,
   "metadata": {},
   "outputs": [],
   "source": [
    "def Education_recode(cols):\n",
    "    Education_level = cols[0]\n",
    "    Education = Education_level.strip()   \n",
    "    if Education_level.strip() == 'Children':\n",
    "        return 0\n",
    "\n",
    "    elif ((Education == \"Less than 1st grade\") or (Education_level == \"1st 2nd 3rd or 4th grade\") or (Education_level == \"5th or 6th grade\") or (Education_level == \"7th and 8th grade\") or (Education_level == \"9th grade\") or (Education_level == \"10th grade\") or (Education_level == \"11th grade\")) :\n",
    "        return 1\n",
    "    elif Education == \"12th grade no diploma\" :\n",
    "        return 2\n",
    "    elif Education == \"High school graduate\" :\n",
    "        return 2\n",
    "    elif Education == \"Some college but no degree\":\n",
    "        return 3\n",
    "    elif Education == \"Associates degree-occup /vocational\":\n",
    "        return 4\n",
    "    elif Education == \"Associates degree-academic program\":\n",
    "        return 5\n",
    "    elif Education == \"Bachelors degree(BA AB BS)\":\n",
    "        return 6\n",
    "    elif Education == \"Masters degree(MA MS MEng MEd MSW MBA)\":\n",
    "        return 7\n",
    "    elif Education == \"Doctorate degree(PhD EdD)\":\n",
    "        return 8\n",
    "    else:\n",
    "        return 9"
   ]
  },
  {
   "cell_type": "code",
   "execution_count": 96,
   "metadata": {},
   "outputs": [],
   "source": [
    "Income['Education_level'] = Income[['AHGA']].apply(Education_recode,axis=1)"
   ]
  },
  {
   "cell_type": "code",
   "execution_count": 101,
   "metadata": {},
   "outputs": [],
   "source": [
    "Income['Education_level'].head()"
   ]
  },
  {
   "cell_type": "code",
   "execution_count": 105,
   "metadata": {},
   "outputs": [
    {
     "data": {
      "text/plain": [
       "(array([     0.,  10000.,  20000.,  30000.,  40000.,  50000.,  60000.]),\n",
       " <a list of 7 Text yticklabel objects>)"
      ]
     },
     "execution_count": 105,
     "metadata": {},
     "output_type": "execute_result"
    },
    {
     "data": {
      "image/png": "[encoded data removed]",
      "text/plain": [
       "<matplotlib.figure.Figure at 0xb3b36ffe10>"
      ]
     },
     "metadata": {},
     "output_type": "display_data"
    }
   ],
   "source": [
    "# Plotting a count plot for Education level based on Income lower or higher than 50,000\n",
    "\n",
    "plt.figure(figsize=(18,6))\n",
    "plt.title('Countplot for Education level',fontsize = 20)\n",
    "sns.countplot(x='Education_level',hue='Income',data=Income, palette='viridis')\n",
    "plt.xlabel(\"Education level\",fontsize = 16 )\n",
    "plt.ylabel(\"Count\",fontsize = 16)\n",
    "plt.xticks(fontsize = 14)\n",
    "plt.yticks(fontsize = 14)"
   ]
  },
  {
   "cell_type": "markdown",
   "metadata": {},
   "source": [
    "**Results**\n",
    "1. Regardless of the education level more people have salries lower than 50,000. This is true even for people with professional degrees (code = 9).\n",
    "2. Number of people with doctrate degree (code = 8) making salaries lower and higher than 50,000 are almost same. \n"
   ]
  },
  {
   "cell_type": "markdown",
   "metadata": {},
   "source": [
    "**Conclusion** Higher eduction level does not necessarily mean higher income."
   ]
  },
  {
   "cell_type": "code",
   "execution_count": null,
   "metadata": {},
   "outputs": [],
   "source": []
  },
  {
   "cell_type": "code",
   "execution_count": null,
   "metadata": {
    "collapsed": true
   },
   "outputs": [],
   "source": []
  }
 ],
 "metadata": {
  "kernelspec": {
   "display_name": "Python 3",
   "language": "python",
   "name": "python3"
  },
  "language_info": {
   "codemirror_mode": {
    "name": "ipython",
    "version": 3
   },
   "file_extension": ".py",
   "mimetype": "text/x-python",
   "name": "python",
   "nbconvert_exporter": "python",
   "pygments_lexer": "ipython3",
   "version": "3.6.2"
  }
 },
 "nbformat": 4,
 "nbformat_minor": 2
}
